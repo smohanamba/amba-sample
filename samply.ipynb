{
 "cells": [
  {
   "cell_type": "markdown",
   "metadata": {},
   "source": [
    "# Model Preparetion using SageMaker APIs"
   ]
  },
  {
   "cell_type": "markdown",
   "metadata": {},
   "source": [
    "## How to run training"
   ]
  },
  {
   "cell_type": "code",
   "execution_count": null,
   "metadata": {},
   "outputs": [],
   "source": [
    "from sagemaker.estimator import Estimator"
   ]
  },
  {
   "cell_type": "code",
   "execution_count": null,
   "metadata": {},
   "outputs": [],
   "source": [
    "# Describe the Hyperparameters\n",
    "\n",
    "{\n",
    "    \"batch_size\":\"8\",\n",
    "    \"weight_decay\":\"0.0005\",\n",
    "    \"num_classes\":\"21\",\n",
    "    \"compression_level\":\"1\",\n",
    "    \"eps\":\"1e-8\",\n",
    "    \"monitor\":\"val_acc\",\n",
    "    \"early_stopping\":\"True\",\n",
    "    \"num_workers\":\"4\",\n",
    "    \"momentum\":\"0.9\",\n",
    "    \"lr_scheduler_factor\":\"0.1\",\n",
    "    \"min_delta\":\"0.002\",\n",
    "    \"lr_scheduler\":\"MultiStepLR\",\n",
    "    \"optimizer\":\"sgd\",\n",
    "    \"patience\":\"5\",\n",
    "    \"backbone\":\"vgg16\",\n",
    "    \"compression\":\"True\",\n",
    "    \"epochs\":\"1\",\n",
    "    \"learning_rate\":\"0.00004\",\n",
    "    \"step_size\":\"20\",\n",
    "    \"nms_thresh\":\"0.45\",\n",
    "    \"iou_thresh\":\"0.5\",\n",
    "    \"milestones\":\"50,70\"\n",
    "}"
   ]
  },
  {
   "cell_type": "code",
   "execution_count": null,
   "metadata": {},
   "outputs": [],
   "source": [
    "# Set the path to training and validation dataset \n",
    "input_data = {'train':'s3://your_path/training-data',  \n",
    "            'val':'s3://your_path/test-data'}\n"
   ]
  },
  {
   "cell_type": "code",
   "execution_count": null,
   "metadata": {},
   "outputs": [],
   "source": [
    "# Call the estimator API to train\n",
    "estimator = Estimator(\n",
    "    role=role,\n",
    "    instance_count=1,\n",
    "    instance_type='ml.p2.xlarge',\n",
    "    image_uri='xxx.dkr.ecr.us-west-2.amazonaws.com/xxx:latest5',\n",
    "    hyperparameters=hyperparameters,\n",
    "    output_path='s3://your_path/output-model'\n",
    ")\n",
    "estimator.fit(input_data)\n"
   ]
  },
  {
   "cell_type": "markdown",
   "metadata": {},
   "source": [
    "## How to run inference"
   ]
  }
 ],
 "metadata": {
  "language_info": {
   "name": "plaintext"
  },
  "orig_nbformat": 4
 },
 "nbformat": 4,
 "nbformat_minor": 2
}
